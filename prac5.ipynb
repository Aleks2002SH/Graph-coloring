{
 "cells": [
  {
   "cell_type": "code",
   "execution_count": 1,
   "id": "e2bbea9e",
   "metadata": {},
   "outputs": [],
   "source": [
    "ch1 = [1918,1749,1632,1534,1449,1372,1302,1236]\n",
    "ch2 = [1849,1706,1598,1505,1422,1347,1279,1216]\n",
    "mid = 2224;"
   ]
  },
  {
   "cell_type": "code",
   "execution_count": 3,
   "id": "4410c7da",
   "metadata": {},
   "outputs": [
    {
     "name": "stdout",
     "output_type": "stream",
     "text": [
      "[306, 475, 592, 690, 775, 852, 922, 988]\n",
      "[375, 518, 626, 719, 802, 877, 945, 1008]\n"
     ]
    }
   ],
   "source": [
    "r_1 = []\n",
    "r_2 = []\n",
    "for i in range(0,8):\n",
    "    r_1.append(mid-ch1[i])\n",
    "    r_2.append(mid-ch2[i])\n",
    "print(r_1)\n",
    "print(r_2)"
   ]
  },
  {
   "cell_type": "code",
   "execution_count": 1,
   "id": "2b43b027",
   "metadata": {},
   "outputs": [
    {
     "name": "stdout",
     "output_type": "stream",
     "text": [
      "1.0470957613814755e-08\n"
     ]
    }
   ],
   "source": [
    "h = 6.67*10**(-34)\n",
    "me = 9.1*10**(-31)\n",
    "v = 7*10**(4)\n",
    "print(h/(me*v))"
   ]
  },
  {
   "cell_type": "code",
   "execution_count": 3,
   "id": "aa4b7b37",
   "metadata": {},
   "outputs": [
    {
     "name": "stdout",
     "output_type": "stream",
     "text": [
      "0.005333333333333333\n"
     ]
    }
   ],
   "source": [
    "Ef = 5*1.6*10**(-19)\n",
    "n = 10**(16)\n",
    "print(Ef*n*2/3)"
   ]
  },
  {
   "cell_type": "code",
   "execution_count": 2,
   "id": "2b8101d7",
   "metadata": {},
   "outputs": [
    {
     "name": "stdout",
     "output_type": "stream",
     "text": [
      "0.47098004143577743\n"
     ]
    }
   ],
   "source": [
    "import numpy as np\n",
    "h = 1.26*10**(-34)\n",
    "Mh = 1826*9.1*10**(-31)\n",
    "d = 0.7*10**(-10)\n",
    "I = Mh * d**2\n",
    "E = h**2/I\n",
    "k = 1.38*10**(-23)\n",
    "T = 300\n",
    "coef = E/(k*T)\n",
    "print(coef)"
   ]
  },
  {
   "cell_type": "code",
   "execution_count": null,
   "id": "9619fd3d",
   "metadata": {},
   "outputs": [],
   "source": []
  }
 ],
 "metadata": {
  "kernelspec": {
   "display_name": "Python 3 (ipykernel)",
   "language": "python",
   "name": "python3"
  },
  "language_info": {
   "codemirror_mode": {
    "name": "ipython",
    "version": 3
   },
   "file_extension": ".py",
   "mimetype": "text/x-python",
   "name": "python",
   "nbconvert_exporter": "python",
   "pygments_lexer": "ipython3",
   "version": "3.10.8"
  }
 },
 "nbformat": 4,
 "nbformat_minor": 5
}
