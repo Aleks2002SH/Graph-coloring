{
 "cells": [
  {
   "cell_type": "code",
   "execution_count": 2,
   "id": "e34cd08a",
   "metadata": {},
   "outputs": [],
   "source": [
    "import os\n",
    "from math import *\n",
    "from astropy.io import fits\n",
    "from astropy.table import Table\n",
    "from astropy.io import fits\n",
    "from astropy.table import Table\n",
    "import numpy as np\n",
    "import scipy\n",
    "import os\n",
    "from scipy import ndimage"
   ]
  },
  {
   "cell_type": "code",
   "execution_count": 46,
   "id": "ddbf229e",
   "metadata": {},
   "outputs": [
    {
     "name": "stdout",
     "output_type": "stream",
     "text": [
      "BITPIX  =                  -32 /\n",
      "['SEXBKGND=   3.249338641763E-02 / Median background level (ADU)']\n",
      "['3', '2', '4', '9', '3', '3', '8', '6', '4', '1', '7', '6', '3', '0', '2']\n"
     ]
    }
   ],
   "source": [
    "with fits.open(\"CFHT.cat\") as sex_cat:\n",
    "    hdr = sex_cat[1].header\n",
    "    #print(repr(hdr))\n",
    "    data = sex_cat[1].data\n",
    "    print(data[0][0][1])\n",
    "    sub = 'SEXBKGND'\n",
    "    string = [s for s in data[0][0] if sub in s]\n",
    "    print(string)\n",
    "    print(num)"
   ]
  },
  {
   "cell_type": "code",
   "execution_count": null,
   "id": "99d45c51",
   "metadata": {},
   "outputs": [],
   "source": []
  }
 ],
 "metadata": {
  "kernelspec": {
   "display_name": "Python 3 (ipykernel)",
   "language": "python",
   "name": "python3"
  },
  "language_info": {
   "codemirror_mode": {
    "name": "ipython",
    "version": 3
   },
   "file_extension": ".py",
   "mimetype": "text/x-python",
   "name": "python",
   "nbconvert_exporter": "python",
   "pygments_lexer": "ipython3",
   "version": "3.10.8"
  }
 },
 "nbformat": 4,
 "nbformat_minor": 5
}
